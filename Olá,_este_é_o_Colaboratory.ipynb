{
  "cells": [
    {
      "cell_type": "markdown",
      "metadata": {
        "id": "view-in-github",
        "colab_type": "text"
      },
      "source": [
        "<a href=\"https://colab.research.google.com/github/pereiraluiza/dio-desafio-github-primeiro-repositorio/blob/main/Ol%C3%A1%2C_este_%C3%A9_o_Colaboratory.ipynb\" target=\"_parent\"><img src=\"https://colab.research.google.com/assets/colab-badge.svg\" alt=\"Open In Colab\"/></a>"
      ]
    },
    {
      "cell_type": "code",
      "source": [
        "nome = input ('Qual o seu nome?')\n",
        "print('Olá {}, seja bem vindo!'.format(nome))"
      ],
      "metadata": {
        "colab": {
          "base_uri": "https://localhost:8080/"
        },
        "id": "o3CwtU0mUH7F",
        "outputId": "b2418d4b-054a-461a-ca78-ed925167689b"
      },
      "execution_count": 5,
      "outputs": [
        {
          "output_type": "stream",
          "name": "stdout",
          "text": [
            "Qual o seu nome?Luiza\n",
            "Olá Luiza, seja bem vindo!\n"
          ]
        }
      ]
    },
    {
      "cell_type": "code",
      "source": [
        "x = int(input('Digite um número inteiro: '))\n",
        "y = int(input('Digite outro número inteiro: '))\n",
        "\n",
        "res = 'O resultado da soma de %i com %i é %i.' % (x, y, x + y)\n",
        "\n",
        "\n",
        "print(res)\n",
        "\n",
        "res = 'O resultado da soma de {} com {} é {}.' .format(x, y, x +y)\n",
        "print(res)\n",
        "\n"
      ],
      "metadata": {
        "colab": {
          "base_uri": "https://localhost:8080/"
        },
        "id": "UPU75shqUUbT",
        "outputId": "2d910ac7-f4dd-47ed-ae1d-cf6bf28451b4"
      },
      "execution_count": 4,
      "outputs": [
        {
          "output_type": "stream",
          "name": "stdout",
          "text": [
            "Digite um número inteiro: 5\n",
            "Digite outro número inteiro: 8\n",
            "O resultado da soma de 5 com 8 é 13.\n",
            "O resultado da soma de 5 com 8 é 13.\n"
          ]
        }
      ]
    }
  ],
  "metadata": {
    "colab": {
      "collapsed_sections": [],
      "name": "Olá, este é o Colaboratory",
      "toc_visible": true,
      "provenance": [],
      "include_colab_link": true
    },
    "kernelspec": {
      "display_name": "Python 3",
      "name": "python3"
    }
  },
  "nbformat": 4,
  "nbformat_minor": 0
}